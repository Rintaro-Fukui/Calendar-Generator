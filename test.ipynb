{
 "cells": [
  {
   "cell_type": "code",
   "execution_count": 1,
   "metadata": {},
   "outputs": [],
   "source": [
    "import re\n",
    "from selenium import webdriver\n",
    "from webdriver_manager.chrome import ChromeDriverManager\n",
    "from selenium.webdriver.chrome.service import Service as ChromeService\n",
    "from selenium.webdriver import ChromeOptions\n",
    "from selenium.webdriver.common.by import By\n",
    "from selenium.webdriver.common.keys import Keys\n",
    "\n",
    "import datetime\n",
    "import arrow\n",
    "from ics import Calendar, Event"
   ]
  },
  {
   "cell_type": "code",
   "execution_count": 2,
   "metadata": {},
   "outputs": [],
   "source": [
    "# 学籍番号\n",
    "student_id = \"*******\"\n",
    "\n",
    "# パスワード\n",
    "password = \"*******\""
   ]
  },
  {
   "cell_type": "code",
   "execution_count": 3,
   "metadata": {},
   "outputs": [],
   "source": [
    "# chrome driverの設定\n",
    "options = ChromeOptions()\n",
    "options.add_argument(\"--headless\")\n",
    "options.add_argument('--disable-gpu')\n",
    "options.add_argument('--no-sandbox')\n",
    "options.add_argument('--disable-dev-shm-usage')\n",
    "driver = webdriver.Chrome(\n",
    "    options=options,\n",
    "    service=ChromeService(ChromeDriverManager().install())\n",
    "    )\n",
    "\n",
    "# urlを指定\n",
    "url=\"https://muscat.musashino-u.ac.jp/portal/top.do\"\n",
    "driver.get(url)\n",
    "\n",
    "# 学籍番号を入力\n",
    "login = \"s\" + str(student_id)\n",
    "driver.find_element(By.XPATH,\"//*[@id='userId']\").send_keys(login)\n",
    "\n",
    "# パスワードを入力\n",
    "driver.find_element(By.XPATH,\"//*[@id='password']\").send_keys(password)\n",
    "\n",
    "# ログインボタンをクリック\n",
    "btn = driver.find_element(By.XPATH,\"//*[@id='loginButton']\")\n",
    "btn.click()\n",
    "\n",
    "# メニューの非表示を解除\n",
    "menuList = driver.find_element(By.XPATH,\"/html/body/div[1]/div[1]/div[6]/ul/li[3]/ul\")\n",
    "driver.execute_script(\"arguments[0].setAttribute('style','display: block;')\", menuList)\n",
    "\n",
    "# 履修登録確認にアクセス\n",
    "myCalendar = driver.find_element(By.XPATH,\"/html/body/div[1]/div[1]/div[6]/ul/li[3]/ul/li[1]/a\")\n",
    "myCalendar.send_keys(Keys.ENTER)\n",
    "\n",
    "# 時間割を抽出\n",
    "table = []\n",
    "for j in range(3, 16, 2):\n",
    "    for i in range(3, 14, 2):\n",
    "        coma_xpath = f\"/html/body/div/div[2]/table/tbody/tr/td[1]/form/div[2]/div[3]/table/tbody/tr[{j}]/td[{i}]/table/tbody/tr/td\"\n",
    "        coma = driver.find_element(By.XPATH, coma_xpath)\n",
    "        coma_text = coma.get_attribute(\"innerHTML\")\n",
    "        pattern = r'<br>(.*?)<br>'\n",
    "        matches = re.findall(pattern, coma_text, re.DOTALL)\n",
    "        table.append(matches[0].strip())\n",
    "jikanwari = [table[0:6], table[6:12], table[12:18], table[18:24], table[24:30], table[30:36], table[36:42]]\n",
    "\n",
    "# chromeを終了\n",
    "driver.close()"
   ]
  },
  {
   "cell_type": "code",
   "execution_count": 4,
   "metadata": {},
   "outputs": [
    {
     "data": {
      "text/plain": [
       "[['', 'データマイニング', '', '', '', ''],\n",
       " ['', '', '', '', '', ''],\n",
       " ['ビジネスモデル創出', '', '専門コース演習Ⅲ（ソーシャルイノベーション）', '', '卒業論文創成課題', ''],\n",
       " ['ビジネスモデル創出', '', '専門コース演習Ⅲ（ソーシャルイノベーション）', '', '卒業論文創成課題', ''],\n",
       " ['', '', '', '仏教（生き方を考える）発展[a11]', '', ''],\n",
       " ['', '', '', '', '', ''],\n",
       " ['', '', '', '', '', '']]"
      ]
     },
     "execution_count": 4,
     "metadata": {},
     "output_type": "execute_result"
    }
   ],
   "source": [
    "jikanwari"
   ]
  },
  {
   "cell_type": "code",
   "execution_count": 5,
   "metadata": {},
   "outputs": [],
   "source": [
    "# 学期\n",
    "semester = {\n",
    "    0: [datetime.date(2023,4,15), datetime.date(2023,6,10)],\n",
    "    1: [datetime.date(2023,6,15), datetime.date(2023,8,2)],\n",
    "    2: [datetime.date(2023,9,22), datetime.date(2023,11,13)],\n",
    "    3: [datetime.date(2023,11,21), datetime.date(2024,1,27)],\n",
    "}\n",
    "\n",
    "# 休日\n",
    "holiday = [\n",
    "    datetime.date(2023,4,29), datetime.date(2023,5,1), datetime.date(2023,5,2),\n",
    "    datetime.date(2023,5,3), datetime.date(2023,5,4), datetime.date(2023,5,5),\n",
    "    datetime.date(2023,5,20), datetime.date(2023,10,6), datetime.date(2023,10,9),\n",
    "    datetime.date(2023,12,26), datetime.date(2023,12,27), datetime.date(2023,12,28),\n",
    "    datetime.date(2023,12,29), datetime.date(2023,12,30), datetime.date(2024,1,1),\n",
    "    datetime.date(2024,1,2), datetime.date(2024,1,3), datetime.date(2024,1,4),\n",
    "    datetime.date(2024,1,5), datetime.date(2024,1,6), datetime.date(2024,1,8),\n",
    "    datetime.date(2024,1,9), datetime.date(2024,1,12), datetime.date(2024,1,13),\n",
    "    datetime.date(2024,1,24), datetime.date(2024,1,25),\n",
    "]\n",
    "\n",
    "# 時間\n",
    "class_time = {\n",
    "    0: ['08:50:00', '10:30:00'],\n",
    "    1: ['10:40:00', '12:20:00'],\n",
    "    2: ['13:10:00', '14:50:00'],\n",
    "    3: ['15:00:00', '16:40:00'],\n",
    "    4: ['16:50:00', '18:30:00'],\n",
    "    5: ['18:40:00', '20:20:00'],\n",
    "    6: ['20:20:00', '22:00:00'],\n",
    "    }"
   ]
  },
  {
   "cell_type": "code",
   "execution_count": 6,
   "metadata": {},
   "outputs": [],
   "source": [
    "# カレンダーの作成\n",
    "cal = Calendar()\n",
    "cal.creator = 'Rintaro Fukui'"
   ]
  },
  {
   "cell_type": "code",
   "execution_count": 11,
   "metadata": {},
   "outputs": [
    {
     "data": {
      "text/plain": [
       "2"
      ]
     },
     "execution_count": 11,
     "metadata": {},
     "output_type": "execute_result"
    }
   ],
   "source": [
    "# 学期を判定\n",
    "now_semester = None\n",
    "today = datetime.date.today()\n",
    "if (semester[0][0] <= today) & (today <= semester[0][1]):\n",
    "    now_semester = 0\n",
    "elif (semester[1][0] <= today) & (today <= semester[1][1]):\n",
    "    now_semester = 1\n",
    "elif (semester[2][0] <= today) & (today <= semester[2][1]):\n",
    "    now_semester = 2\n",
    "elif (semester[3][0] <= today) & (today <= semester[3][1]):\n",
    "    now_semester = 3\n",
    "\n",
    "now_semester"
   ]
  },
  {
   "cell_type": "code",
   "execution_count": 12,
   "metadata": {},
   "outputs": [],
   "source": [
    "# 学期の開始日\n",
    "start = semester[now_semester][0]\n",
    "\n",
    "# 学期の終了日\n",
    "stop = semester[now_semester][1]\n",
    "\n",
    "while start <= stop:\n",
    "\n",
    "    # 曜日を取得\n",
    "    weekday = start.weekday()\n",
    "\n",
    "    for i in range(len(jikanwari)):\n",
    "\n",
    "        rele = jikanwari[i]\n",
    "\n",
    "        # 日曜日ではない/授業がある/休日ではない を全て満たす場合にイベントを作成\n",
    "        if weekday != 6 and rele[weekday] != '' and start not in holiday:\n",
    "\n",
    "            # イベントを作成\n",
    "            event = Event()\n",
    "\n",
    "            # イベント名\n",
    "            event.name = jikanwari[i][weekday]\n",
    "\n",
    "            # 開始時刻\n",
    "            event.begin = arrow.get(f\"{start} {class_time[i][0]}\", \"YYYY-MM-DD HH:mm:ss\").replace(tzinfo=\"Asia/Tokyo\")\n",
    "\n",
    "            # 終了時刻\n",
    "            event.end = arrow.get(f\"{start} {class_time[i][1]}\" ,\"YYYY-MM-DD HH:mm:ss\").replace(tzinfo=\"Asia/Tokyo\")\n",
    "\n",
    "            # イベントをカレンダーに追加\n",
    "            cal.events.add(event)\n",
    "\n",
    "    start += datetime.timedelta(days=1)"
   ]
  },
  {
   "cell_type": "code",
   "execution_count": 13,
   "metadata": {},
   "outputs": [
    {
     "name": "stderr",
     "output_type": "stream",
     "text": [
      "/Users/rintarofukui/Private/Calendar-Generator/venv/lib/python3.10/site-packages/ics/component.py:85: FutureWarning: Behaviour of str(Component) will change in version 0.9 to only return a short description, NOT the ics representation. Use the explicit Component.serialize() to get the ics representation.\n",
      "  warnings.warn(\n"
     ]
    },
    {
     "data": {
      "text/plain": [
       "'BEGIN:VCALENDAR\\r\\nVERSION:2.0\\r\\nPRODID:Rintaro Fukui\\r\\nBEGIN:VEVENT\\r\\nDTEND:20231019T093000Z\\r\\nDTSTART:20231019T075000Z\\r\\nSUMMARY:仏教（生き方を考える）発展[a11]\\r\\nUID:bfca9ab1-9c86-4580-bb65-2723a1be1af6@bfca.org\\r\\nEND:VEVENT\\r\\nBEGIN:VEVENT\\r\\nDTEND:20231102T093000Z\\r\\nDTSTART:20231102T075000Z\\r\\nSUMMARY:仏教（生き方を考える）発展[a11]\\r\\nUID:ad7ffba8-e273-4c5a-9b8c-531c95f8c3c1@ad7f.org\\r\\nEND:VEVENT\\r\\nBEGIN:VEVENT\\r\\nDTEND:20230927T055000Z\\r\\nDTSTART:20230927T041000Z\\r\\nSUMMARY:専門コース演習Ⅲ（ソーシャルイノベーション）\\r\\nUID:a423d59f-c04e-4af5-b0ee-e4e68b4e051f@a423.org\\r\\nEND:VEVENT\\r\\nBEGIN:VEVENT\\r\\nDTEND:20231031T013000Z\\r\\nDTSTART:20231030T235000Z\\r\\nSUMMARY:データマイニング\\r\\nUID:8ad6374b-dc03-45a2-a6a7-589ceeda6e73@8ad6.org\\r\\nEND:VEVENT\\r\\nBEGIN:VEVENT\\r\\nDTEND:20230925T074000Z\\r\\nDTSTART:20230925T060000Z\\r\\nSUMMARY:ビジネスモデル創出\\r\\nUID:3bcb08bf-39fd-497b-8f9a-e5fad57deede@3bcb.org\\r\\nEND:VEVENT\\r\\nBEGIN:VEVENT\\r\\nDTEND:20231002T074000Z\\r\\nDTSTART:20231002T060000Z\\r\\nSUMMARY:ビジネスモデル創出\\r\\nUID:f8f858e1-b289-49a4-8cc8-3ce23ac502f2@f8f8.org\\r\\nEND:VEVENT\\r\\nBEGIN:VEVENT\\r\\nDTEND:20231101T055000Z\\r\\nDTSTART:20231101T041000Z\\r\\nSUMMARY:専門コース演習Ⅲ（ソーシャルイノベーション）\\r\\nUID:7bbdf6d2-9f27-47c2-a515-5c46a8b4b60b@7bbd.org\\r\\nEND:VEVENT\\r\\nBEGIN:VEVENT\\r\\nDTEND:20230929T074000Z\\r\\nDTSTART:20230929T060000Z\\r\\nSUMMARY:卒業論文創成課題\\r\\nUID:ef11f3e7-c6fb-4d67-a697-65009b253927@ef11.org\\r\\nEND:VEVENT\\r\\nBEGIN:VEVENT\\r\\nDTEND:20231108T074000Z\\r\\nDTSTART:20231108T060000Z\\r\\nSUMMARY:専門コース演習Ⅲ（ソーシャルイノベーション）\\r\\nUID:5da3a8e5-d01c-4611-9166-d6fa2d26ba41@5da3.org\\r\\nEND:VEVENT\\r\\nBEGIN:VEVENT\\r\\nDTEND:20231026T093000Z\\r\\nDTSTART:20231026T075000Z\\r\\nSUMMARY:仏教（生き方を考える）発展[a11]\\r\\nUID:f6f7d867-0f70-4035-88f9-d144677aecf6@f6f7.org\\r\\nEND:VEVENT\\r\\nBEGIN:VEVENT\\r\\nDTEND:20231110T074000Z\\r\\nDTSTART:20231110T060000Z\\r\\nSUMMARY:卒業論文創成課題\\r\\nUID:721b60fd-40e9-4260-989c-9da009319223@721b.org\\r\\nEND:VEVENT\\r\\nBEGIN:VEVENT\\r\\nDTEND:20231018T074000Z\\r\\nDTSTART:20231018T060000Z\\r\\nSUMMARY:専門コース演習Ⅲ（ソーシャルイノベーション）\\r\\nUID:686ec1db-ad42-4e7a-979d-81823966503f@686e.org\\r\\nEND:VEVENT\\r\\nBEGIN:VEVENT\\r\\nDTEND:20231025T055000Z\\r\\nDTSTART:20231025T041000Z\\r\\nSUMMARY:専門コース演習Ⅲ（ソーシャルイノベーション）\\r\\nUID:2a6aab1c-dd0b-4157-8b93-6005fd86f68b@2a6a.org\\r\\nEND:VEVENT\\r\\nBEGIN:VEVENT\\r\\nDTEND:20231003T013000Z\\r\\nDTSTART:20231002T235000Z\\r\\nSUMMARY:データマイニング\\r\\nUID:075bab0c-58c7-4134-8015-3a8f47ed419e@075b.org\\r\\nEND:VEVENT\\r\\nBEGIN:VEVENT\\r\\nDTEND:20231020T074000Z\\r\\nDTSTART:20231020T060000Z\\r\\nSUMMARY:卒業論文創成課題\\r\\nUID:9a4bf824-ac11-4ace-ba84-6408970ecd7e@9a4b.org\\r\\nEND:VEVENT\\r\\nBEGIN:VEVENT\\r\\nDTEND:20231020T055000Z\\r\\nDTSTART:20231020T041000Z\\r\\nSUMMARY:卒業論文創成課題\\r\\nUID:f17fe0b7-abd5-45b0-a5f1-1c6da9ceb3c7@f17f.org\\r\\nEND:VEVENT\\r\\nBEGIN:VEVENT\\r\\nDTEND:20231010T013000Z\\r\\nDTSTART:20231009T235000Z\\r\\nSUMMARY:データマイニング\\r\\nUID:af9b3b54-32eb-44ca-b376-9fb222d8d647@af9b.org\\r\\nEND:VEVENT\\r\\nBEGIN:VEVENT\\r\\nDTEND:20231023T074000Z\\r\\nDTSTART:20231023T060000Z\\r\\nSUMMARY:ビジネスモデル創出\\r\\nUID:ea61f413-f188-46bc-9fbb-1be849391d02@ea61.org\\r\\nEND:VEVENT\\r\\nBEGIN:VEVENT\\r\\nDTEND:20231030T074000Z\\r\\nDTSTART:20231030T060000Z\\r\\nSUMMARY:ビジネスモデル創出\\r\\nUID:0318d69d-b758-4d84-b3cc-c0ff4eaa35e3@0318.org\\r\\nEND:VEVENT\\r\\nBEGIN:VEVENT\\r\\nDTEND:20231106T074000Z\\r\\nDTSTART:20231106T060000Z\\r\\nSUMMARY:ビジネスモデル創出\\r\\nUID:80d0aa79-1025-42b2-bdce-4839259e9499@80d0.org\\r\\nEND:VEVENT\\r\\nBEGIN:VEVENT\\r\\nDTEND:20231017T013000Z\\r\\nDTSTART:20231016T235000Z\\r\\nSUMMARY:データマイニング\\r\\nUID:25cdc9a8-b02e-4569-960d-f4cbc637ed9d@25cd.org\\r\\nEND:VEVENT\\r\\nBEGIN:VEVENT\\r\\nDTEND:20231106T055000Z\\r\\nDTSTART:20231106T041000Z\\r\\nSUMMARY:ビジネスモデル創出\\r\\nUID:3f9f4a8e-3509-40e6-a3b4-8a557bf738a3@3f9f.org\\r\\nEND:VEVENT\\r\\nBEGIN:VEVENT\\r\\nDTEND:20231101T074000Z\\r\\nDTSTART:20231101T060000Z\\r\\nSUMMARY:専門コース演習Ⅲ（ソーシャルイノベーション）\\r\\nUID:74e9fe3e-d9f2-4058-a0d5-e73cca625037@74e9.org\\r\\nEND:VEVENT\\r\\nBEGIN:VEVENT\\r\\nDTEND:20230929T055000Z\\r\\nDTSTART:20230929T041000Z\\r\\nSUMMARY:卒業論文創成課題\\r\\nUID:4fc62222-b53d-477b-b411-eeacd7fbb8ad@4fc6.org\\r\\nEND:VEVENT\\r\\nBEGIN:VEVENT\\r\\nDTEND:20231027T055000Z\\r\\nDTSTART:20231027T041000Z\\r\\nSUMMARY:卒業論文創成課題\\r\\nUID:7ebdccb6-8584-4b26-b390-1870aa73166d@7ebd.org\\r\\nEND:VEVENT\\r\\nBEGIN:VEVENT\\r\\nDTEND:20230926T013000Z\\r\\nDTSTART:20230925T235000Z\\r\\nSUMMARY:データマイニング\\r\\nUID:dda8630a-a954-4704-882b-47b8c888e85c@dda8.org\\r\\nEND:VEVENT\\r\\nBEGIN:VEVENT\\r\\nDTEND:20230928T093000Z\\r\\nDTSTART:20230928T075000Z\\r\\nSUMMARY:仏教（生き方を考える）発展[a11]\\r\\nUID:14a20a11-1d66-43b0-b8af-565126ec1cd2@14a2.org\\r\\nEND:VEVENT\\r\\nBEGIN:VEVENT\\r\\nDTEND:20231011T074000Z\\r\\nDTSTART:20231011T060000Z\\r\\nSUMMARY:専門コース演習Ⅲ（ソーシャルイノベーション）\\r\\nUID:110a47ae-8c7e-473d-bb60-7a14d69ba817@110a.org\\r\\nEND:VEVENT\\r\\nBEGIN:VEVENT\\r\\nDTEND:20231005T093000Z\\r\\nDTSTART:20231005T075000Z\\r\\nSUMMARY:仏教（生き方を考える）発展[a11]\\r\\nUID:47316adc-70c9-4239-a2d0-b18c7bbb3878@4731.org\\r\\nEND:VEVENT\\r\\nBEGIN:VEVENT\\r\\nDTEND:20231013T055000Z\\r\\nDTSTART:20231013T041000Z\\r\\nSUMMARY:卒業論文創成課題\\r\\nUID:2185e5ec-77a6-4369-9666-e8ad41d17aee@2185.org\\r\\nEND:VEVENT\\r\\nBEGIN:VEVENT\\r\\nDTEND:20231103T074000Z\\r\\nDTSTART:20231103T060000Z\\r\\nSUMMARY:卒業論文創成課題\\r\\nUID:3202f4ed-ea72-4ee3-8e19-a64aea7230a3@3202.org\\r\\nEND:VEVENT\\r\\nBEGIN:VEVENT\\r\\nDTEND:20231016T074000Z\\r\\nDTSTART:20231016T060000Z\\r\\nSUMMARY:ビジネスモデル創出\\r\\nUID:f0958bb4-53aa-401c-a16c-ba5bdeb4d3a6@f095.org\\r\\nEND:VEVENT\\r\\nBEGIN:VEVENT\\r\\nDTEND:20231113T055000Z\\r\\nDTSTART:20231113T041000Z\\r\\nSUMMARY:ビジネスモデル創出\\r\\nUID:16b1a1f2-3c67-4dc0-97d5-212ebda3fb82@16b1.org\\r\\nEND:VEVENT\\r\\nBEGIN:VEVENT\\r\\nDTEND:20231013T074000Z\\r\\nDTSTART:20231013T060000Z\\r\\nSUMMARY:卒業論文創成課題\\r\\nUID:4a8f4328-3207-4d88-af01-0255cb740914@4a8f.org\\r\\nEND:VEVENT\\r\\nBEGIN:VEVENT\\r\\nDTEND:20231004T055000Z\\r\\nDTSTART:20231004T041000Z\\r\\nSUMMARY:専門コース演習Ⅲ（ソーシャルイノベーション）\\r\\nUID:dde7110c-cec7-4dc5-b378-638421be7ae4@dde7.org\\r\\nEND:VEVENT\\r\\nBEGIN:VEVENT\\r\\nDTEND:20231109T093000Z\\r\\nDTSTART:20231109T075000Z\\r\\nSUMMARY:仏教（生き方を考える）発展[a11]\\r\\nUID:bb3ef3b5-62f5-41cf-b2ad-2909cff3cb3c@bb3e.org\\r\\nEND:VEVENT\\r\\nBEGIN:VEVENT\\r\\nDTEND:20231110T055000Z\\r\\nDTSTART:20231110T041000Z\\r\\nSUMMARY:卒業論文創成課題\\r\\nUID:314994fc-bff8-42b4-b163-35810f8db090@3149.org\\r\\nEND:VEVENT\\r\\nBEGIN:VEVENT\\r\\nDTEND:20231002T055000Z\\r\\nDTSTART:20231002T041000Z\\r\\nSUMMARY:ビジネスモデル創出\\r\\nUID:5dd90009-b9f8-4acd-a88f-65e68a93d347@5dd9.org\\r\\nEND:VEVENT\\r\\nBEGIN:VEVENT\\r\\nDTEND:20231025T074000Z\\r\\nDTSTART:20231025T060000Z\\r\\nSUMMARY:専門コース演習Ⅲ（ソーシャルイノベーション）\\r\\nUID:75808016-e794-41c2-9bab-bcc4be4ff400@7580.org\\r\\nEND:VEVENT\\r\\nBEGIN:VEVENT\\r\\nDTEND:20231012T093000Z\\r\\nDTSTART:20231012T075000Z\\r\\nSUMMARY:仏教（生き方を考える）発展[a11]\\r\\nUID:ca0b7c89-f4e3-4b84-aa07-ea94fad36f97@ca0b.org\\r\\nEND:VEVENT\\r\\nBEGIN:VEVENT\\r\\nDTEND:20231024T013000Z\\r\\nDTSTART:20231023T235000Z\\r\\nSUMMARY:データマイニング\\r\\nUID:d39a550f-fd97-44f4-b31c-280fe45347a3@d39a.org\\r\\nEND:VEVENT\\r\\nBEGIN:VEVENT\\r\\nDTEND:20231016T055000Z\\r\\nDTSTART:20231016T041000Z\\r\\nSUMMARY:ビジネスモデル創出\\r\\nUID:96b79cea-6f84-42e2-94b7-4cdfc43daff5@96b7.org\\r\\nEND:VEVENT\\r\\nBEGIN:VEVENT\\r\\nDTEND:20231030T055000Z\\r\\nDTSTART:20231030T041000Z\\r\\nSUMMARY:ビジネスモデル創出\\r\\nUID:53f282e6-7a41-4da0-8ef3-c865815a9ae5@53f2.org\\r\\nEND:VEVENT\\r\\nBEGIN:VEVENT\\r\\nDTEND:20231107T013000Z\\r\\nDTSTART:20231106T235000Z\\r\\nSUMMARY:データマイニング\\r\\nUID:6a829d4e-a50d-40fc-b5bf-f6c6b3d9e744@6a82.org\\r\\nEND:VEVENT\\r\\nBEGIN:VEVENT\\r\\nDTEND:20231103T055000Z\\r\\nDTSTART:20231103T041000Z\\r\\nSUMMARY:卒業論文創成課題\\r\\nUID:4fed5b99-bb4e-4758-b036-3ace0c3c51de@4fed.org\\r\\nEND:VEVENT\\r\\nBEGIN:VEVENT\\r\\nDTEND:20230922T055000Z\\r\\nDTSTART:20230922T041000Z\\r\\nSUMMARY:卒業論文創成課題\\r\\nUID:7a5e250b-8eb6-471b-b790-a2b21469b84a@7a5e.org\\r\\nEND:VEVENT\\r\\nBEGIN:VEVENT\\r\\nDTEND:20231027T074000Z\\r\\nDTSTART:20231027T060000Z\\r\\nSUMMARY:卒業論文創成課題\\r\\nUID:4b6d0fe9-095d-41f3-9861-143a8e7e2d91@4b6d.org\\r\\nEND:VEVENT\\r\\nBEGIN:VEVENT\\r\\nDTEND:20230927T074000Z\\r\\nDTSTART:20230927T060000Z\\r\\nSUMMARY:専門コース演習Ⅲ（ソーシャルイノベーション）\\r\\nUID:ad6df7b6-3da7-4566-b17c-de75d3112f61@ad6d.org\\r\\nEND:VEVENT\\r\\nBEGIN:VEVENT\\r\\nDTEND:20230925T055000Z\\r\\nDTSTART:20230925T041000Z\\r\\nSUMMARY:ビジネスモデル創出\\r\\nUID:c1120891-cdb7-46f4-94e5-eabfe0cb694b@c112.org\\r\\nEND:VEVENT\\r\\nBEGIN:VEVENT\\r\\nDTEND:20231018T055000Z\\r\\nDTSTART:20231018T041000Z\\r\\nSUMMARY:専門コース演習Ⅲ（ソーシャルイノベーション）\\r\\nUID:debe3bc4-2ba8-4dde-bc26-1bfdf996f2a8@debe.org\\r\\nEND:VEVENT\\r\\nBEGIN:VEVENT\\r\\nDTEND:20231023T055000Z\\r\\nDTSTART:20231023T041000Z\\r\\nSUMMARY:ビジネスモデル創出\\r\\nUID:d9934c58-cb26-45c6-9751-76f455f3f66f@d993.org\\r\\nEND:VEVENT\\r\\nBEGIN:VEVENT\\r\\nDTEND:20231108T055000Z\\r\\nDTSTART:20231108T041000Z\\r\\nSUMMARY:専門コース演習Ⅲ（ソーシャルイノベーション）\\r\\nUID:439ddb98-80eb-46dc-9e88-846ed0f0b7df@439d.org\\r\\nEND:VEVENT\\r\\nBEGIN:VEVENT\\r\\nDTEND:20231004T074000Z\\r\\nDTSTART:20231004T060000Z\\r\\nSUMMARY:専門コース演習Ⅲ（ソーシャルイノベーション）\\r\\nUID:48f349a9-946a-4804-90a3-e63a8eb6bcb0@48f3.org\\r\\nEND:VEVENT\\r\\nBEGIN:VEVENT\\r\\nDTEND:20231011T055000Z\\r\\nDTSTART:20231011T041000Z\\r\\nSUMMARY:専門コース演習Ⅲ（ソーシャルイノベーション）\\r\\nUID:74a71627-c26c-45cb-a700-bba0dc952836@74a7.org\\r\\nEND:VEVENT\\r\\nBEGIN:VEVENT\\r\\nDTEND:20230922T074000Z\\r\\nDTSTART:20230922T060000Z\\r\\nSUMMARY:卒業論文創成課題\\r\\nUID:00c74b9f-74a2-4120-8933-2a60c5270eae@00c7.org\\r\\nEND:VEVENT\\r\\nBEGIN:VEVENT\\r\\nDTEND:20231113T074000Z\\r\\nDTSTART:20231113T060000Z\\r\\nSUMMARY:ビジネスモデル創出\\r\\nUID:c99723ad-2ddf-40ec-a309-ef5a1195ec7a@c997.org\\r\\nEND:VEVENT\\r\\nEND:VCALENDAR'"
      ]
     },
     "execution_count": 13,
     "metadata": {},
     "output_type": "execute_result"
    }
   ],
   "source": [
    "str(cal)"
   ]
  },
  {
   "cell_type": "code",
   "execution_count": null,
   "metadata": {},
   "outputs": [],
   "source": [
    "with open('my.ics', 'w', encoding='utf-8') as f:\n",
    "    f.write(str(cal))"
   ]
  }
 ],
 "metadata": {
  "kernelspec": {
   "display_name": "venv",
   "language": "python",
   "name": "python3"
  },
  "language_info": {
   "codemirror_mode": {
    "name": "ipython",
    "version": 3
   },
   "file_extension": ".py",
   "mimetype": "text/x-python",
   "name": "python",
   "nbconvert_exporter": "python",
   "pygments_lexer": "ipython3",
   "version": "3.10.8"
  },
  "orig_nbformat": 4
 },
 "nbformat": 4,
 "nbformat_minor": 2
}
