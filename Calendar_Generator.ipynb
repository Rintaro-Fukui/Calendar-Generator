{
  "nbformat": 4,
  "nbformat_minor": 0,
  "metadata": {
    "colab": {
      "provenance": [],
      "authorship_tag": "ABX9TyPUhXdX0TCOjhAw1TmM9vSl",
      "include_colab_link": true
    },
    "kernelspec": {
      "name": "python3",
      "display_name": "Python 3"
    },
    "language_info": {
      "name": "python"
    }
  },
  "cells": [
    {
      "cell_type": "markdown",
      "metadata": {
        "id": "view-in-github",
        "colab_type": "text"
      },
      "source": [
        "<a href=\"https://colab.research.google.com/github/Rintaro-Fukui/Calendar-Generator/blob/main/Calendar_Generator.ipynb\" target=\"_parent\"><img src=\"https://colab.research.google.com/assets/colab-badge.svg\" alt=\"Open In Colab\"/></a>"
      ]
    },
    {
      "cell_type": "code",
      "execution_count": 1,
      "metadata": {
        "colab": {
          "base_uri": "https://localhost:8080/"
        },
        "id": "qx-Bns7P7924",
        "outputId": "8c355f88-19e6-4fd8-d8cc-b2aed15eebaf"
      },
      "outputs": [
        {
          "output_type": "stream",
          "name": "stdout",
          "text": [
            "Executing: /tmp/apt-key-gpghome.jv8FLbIxEn/gpg.1.sh --keyserver keyserver.ubuntu.com --recv-keys DCC9EFBF77E11517\n",
            "gpg: key DCC9EFBF77E11517: \"Debian Stable Release Key (10/buster) <debian-release@lists.debian.org>\" not changed\n",
            "gpg: Total number processed: 1\n",
            "gpg:              unchanged: 1\n",
            "Executing: /tmp/apt-key-gpghome.Js1kW4vk9i/gpg.1.sh --keyserver keyserver.ubuntu.com --recv-keys 648ACFD622F3D138\n",
            "gpg: key DC30D7C23CBBABEE: \"Debian Archive Automatic Signing Key (10/buster) <ftpmaster@debian.org>\" not changed\n",
            "gpg: Total number processed: 1\n",
            "gpg:              unchanged: 1\n",
            "Executing: /tmp/apt-key-gpghome.A7ubJ1sRiF/gpg.1.sh --keyserver keyserver.ubuntu.com --recv-keys 112695A0E562B32A\n",
            "gpg: key 4DFAB270CAA96DFA: \"Debian Security Archive Automatic Signing Key (10/buster) <ftpmaster@debian.org>\" not changed\n",
            "gpg: Total number processed: 1\n",
            "gpg:              unchanged: 1\n",
            "gpg: cannot open '/dev/tty': No such device or address\n",
            "Warning: apt-key output should not be parsed (stdout is not a terminal)\n",
            "gpg: [stdout]: write error: Broken pipe\n",
            "gpg: filter_flush failed on close: Broken pipe\n",
            "gpg: cannot open '/dev/tty': No such device or address\n",
            "Warning: apt-key output should not be parsed (stdout is not a terminal)\n",
            "gpg: [stdout]: write error: Broken pipe\n",
            "gpg: filter_flush failed on close: Broken pipe\n",
            "gpg: cannot open '/dev/tty': No such device or address\n",
            "Warning: apt-key output should not be parsed (stdout is not a terminal)\n",
            "gpg: [stdout]: write error: Broken pipe\n",
            "gpg: filter_flush failed on close: Broken pipe\n",
            "Hit:1 https://developer.download.nvidia.com/compute/cuda/repos/ubuntu2004/x86_64  InRelease\n",
            "Get:2 https://cloud.r-project.org/bin/linux/ubuntu focal-cran40/ InRelease [3,622 B]\n",
            "Hit:3 http://deb.debian.org/debian buster InRelease\n",
            "Get:4 http://deb.debian.org/debian buster-updates InRelease [56.6 kB]\n",
            "Hit:5 http://archive.ubuntu.com/ubuntu focal InRelease\n",
            "Hit:6 http://deb.debian.org/debian-security buster/updates InRelease\n",
            "Get:7 http://security.ubuntu.com/ubuntu focal-security InRelease [114 kB]\n",
            "Get:8 http://archive.ubuntu.com/ubuntu focal-updates InRelease [114 kB]\n",
            "Hit:9 http://ppa.launchpad.net/c2d4u.team/c2d4u4.0+/ubuntu focal InRelease\n",
            "Get:10 http://archive.ubuntu.com/ubuntu focal-backports InRelease [108 kB]\n",
            "Hit:11 http://ppa.launchpad.net/cran/libgit2/ubuntu focal InRelease\n",
            "Get:12 http://archive.ubuntu.com/ubuntu focal-updates/universe amd64 Packages [1,323 kB]\n",
            "Hit:13 http://ppa.launchpad.net/deadsnakes/ppa/ubuntu focal InRelease\n",
            "Get:14 http://archive.ubuntu.com/ubuntu focal-backports/main amd64 Packages [55.2 kB]\n",
            "Get:15 http://archive.ubuntu.com/ubuntu focal-backports/universe amd64 Packages [28.6 kB]\n",
            "Hit:16 http://ppa.launchpad.net/graphics-drivers/ppa/ubuntu focal InRelease\n",
            "Hit:17 http://ppa.launchpad.net/ubuntugis/ppa/ubuntu focal InRelease\n",
            "Fetched 1,803 kB in 2s (1,091 kB/s)\n",
            "Reading package lists... Done\n",
            "Reading package lists... Done\n",
            "Building dependency tree       \n",
            "Reading state information... Done\n",
            "chromium is already the newest version (90.0.4430.212-1~deb10u1).\n",
            "chromium-driver is already the newest version (90.0.4430.212-1~deb10u1).\n",
            "0 upgraded, 0 newly installed, 0 to remove and 25 not upgraded.\n"
          ]
        },
        {
          "output_type": "execute_result",
          "data": {
            "text/plain": []
          },
          "metadata": {},
          "execution_count": 1
        }
      ],
      "source": [
        "%%shell\n",
        "\n",
        "cat > /etc/apt/sources.list.d/debian.list <<'EOF'\n",
        "deb [arch=amd64 signed-by=/usr/share/keyrings/debian-buster.gpg] http://deb.debian.org/debian buster main\n",
        "deb [arch=amd64 signed-by=/usr/share/keyrings/debian-buster-updates.gpg] http://deb.debian.org/debian buster-updates main\n",
        "deb [arch=amd64 signed-by=/usr/share/keyrings/debian-security-buster.gpg] http://deb.debian.org/debian-security buster/updates main\n",
        "EOF\n",
        "\n",
        "\n",
        "apt-key adv --keyserver keyserver.ubuntu.com --recv-keys DCC9EFBF77E11517\n",
        "apt-key adv --keyserver keyserver.ubuntu.com --recv-keys 648ACFD622F3D138\n",
        "apt-key adv --keyserver keyserver.ubuntu.com --recv-keys 112695A0E562B32A\n",
        "\n",
        "apt-key export 77E11517 | gpg --dearmour -o /usr/share/keyrings/debian-buster.gpg\n",
        "apt-key export 22F3D138 | gpg --dearmour -o /usr/share/keyrings/debian-buster-updates.gpg\n",
        "apt-key export E562B32A | gpg --dearmour -o /usr/share/keyrings/debian-security-buster.gpg\n",
        "\n",
        "\n",
        "cat > /etc/apt/preferences.d/chromium.pref << 'EOF'\n",
        "Package: *\n",
        "Pin: release a=eoan\n",
        "Pin-Priority: 500\n",
        "\n",
        "\n",
        "Package: *\n",
        "Pin: origin \"deb.debian.org\"\n",
        "Pin-Priority: 300\n",
        "\n",
        "\n",
        "Package: chromium*\n",
        "Pin: origin \"deb.debian.org\"\n",
        "Pin-Priority: 700\n",
        "EOF\n",
        "\n",
        "apt-get update\n",
        "apt-get install chromium chromium-driver\n",
        "\n",
        "pip install -q selenium ics"
      ]
    },
    {
      "cell_type": "code",
      "source": [
        "import re\n",
        "from selenium import webdriver\n",
        "from selenium.webdriver.common.by import By\n",
        "from selenium.webdriver.common.keys import Keys\n",
        "from bs4 import BeautifulSoup\n",
        "import time\n",
        "import datetime\n",
        "import arrow\n",
        "from ics import Calendar, Event"
      ],
      "metadata": {
        "id": "sX8oKULe8Ltb"
      },
      "execution_count": 2,
      "outputs": []
    },
    {
      "cell_type": "code",
      "source": [
        "# ChromeDriverの設定\n",
        "options = webdriver.ChromeOptions()\n",
        "options.add_argument(\"--headless\")\n",
        "options.add_argument(\"--no-sandbox\")\n",
        "options.add_argument(\"--disable-dev-shm-usage\")\n",
        "driver = webdriver.Chrome(\"chromedriver\",options=options)\n",
        "driver.implicitly_wait(10)\n",
        "\n",
        "# urlを指定\n",
        "url=\"https://muscat.musashino-u.ac.jp/portal/top.do\"\n",
        "driver.get(url)\n",
        "\n",
        "time.sleep(5)\n",
        "\n",
        "# 学籍番号を入力\n",
        "login = \"s2122098\"\n",
        "driver.find_element(By.XPATH,\"//*[@id='userId']\").send_keys(login)\n",
        "\n",
        "# パスワードを入力\n",
        "password = \"Em_3_e5P\"\n",
        "driver.find_element(By.XPATH,\"//*[@id='password']\").send_keys(password)\n",
        "\n",
        "# ログインボタンをクリック\n",
        "btn = driver.find_element(By.XPATH,\"//*[@id='loginButton']\")\n",
        "btn.click()\n",
        "\n",
        "time.sleep(5)\n",
        "\n",
        "# メニューの非表示を解除\n",
        "menuList = driver.find_element(By.XPATH,\"/html/body/div[1]/div[1]/div[6]/ul/li[2]/ul\")\n",
        "driver.execute_script(\"arguments[0].setAttribute('style','display: block;')\", menuList)\n",
        "\n",
        "# my時間割にアクセス\n",
        "myCalendar = driver.find_element(By.XPATH,\"/html/body/div[1]/div[1]/div[6]/ul/li[2]/ul/li[1]/a\")\n",
        "myCalendar.send_keys(Keys.ENTER)\n",
        "\n",
        "# 時間割を抽出\n",
        "html = driver.page_source\n",
        "bs = BeautifulSoup(html, \"html.parser\")\n",
        "table = str(bs.find_all(\"table\", class_=\"detail jikanwari_table\"))\n",
        "table = re.findall(r\"<!-- コマに対応する時間割情報が存在しない場合、縦幅を確保する -->|<a.*?>(.*?)</a>\", table)\n",
        "jikanwari = [table[0:6], table[6:12], table[12:18], table[18:24], table[24:30], table[30:36], table[36:42]]"
      ],
      "metadata": {
        "id": "cR-mdQh18rL1"
      },
      "execution_count": 3,
      "outputs": []
    },
    {
      "cell_type": "code",
      "source": [
        "jikanwari"
      ],
      "metadata": {
        "colab": {
          "base_uri": "https://localhost:8080/"
        },
        "id": "Odx1q1-yneqd",
        "outputId": "a0b6cb9f-8a66-4b1e-eb06-a307d77ec0f0"
      },
      "execution_count": 9,
      "outputs": [
        {
          "output_type": "execute_result",
          "data": {
            "text/plain": [
              "[['', '', '', '専門コース演習Ⅰ(人工知能（AI）クリエーション)', '', ''],\n",
              " ['', '', 'テキストマイニング', '専門コース演習Ⅰ(人工知能（AI）クリエーション)', '', ''],\n",
              " ['データサイエンス特論', '', 'テキストマイニング', '', '未来創造PJ-AⅣ', ''],\n",
              " ['データサイエンス特論', '', '社会・環境・ビジネスデザイン', '', '未来創造PJ-AⅣ', ''],\n",
              " ['', '', '社会・環境・ビジネスデザイン', '', '', ''],\n",
              " ['', '', '', '', '', ''],\n",
              " ['', '', '', '', '', '']]"
            ]
          },
          "metadata": {},
          "execution_count": 9
        }
      ]
    },
    {
      "cell_type": "code",
      "source": [
        "cal = Calendar()\n",
        "cal.creator = 'Rintaro Fukui'\n",
        "\n",
        "semester = {\n",
        "    0: [datetime.date(2023,4,15), datetime.date(2023,6,10)],\n",
        "    1: [datetime.date(2023,6,15), datetime.date(2023,8,2)],\n",
        "    2: [datetime.date(2023,9,22), datetime.date(2023,11,13)],\n",
        "    3: [datetime.date(2023,11,21), datetime.date(2024,1,27)],\n",
        "}\n",
        "\n",
        "class_time = {\n",
        "    0: ['08:50:00', '10:30:00'],\n",
        "    1: ['10:40:00', '12:20:00'],\n",
        "    2: ['13:10:00', '14:50:00'],\n",
        "    3: ['15:00:00', '16:40:00'],\n",
        "    4: ['16:50:00', '18:30:00'],\n",
        "    5: ['18:40:00', '20:20:00'],\n",
        "    6: ['20:20:00', '22:00:00'],\n",
        "    }\n",
        "\n",
        "# for i in range(len(semester)):\n",
        "start = semester[0][0]\n",
        "stop = semester[0][1]\n",
        "while start <= stop:\n",
        "    weekday = start.weekday()\n",
        "    for i in range(len(jikanwari)):\n",
        "        rele = jikanwari[i]\n",
        "        if weekday != 6 and rele[weekday] != '':\n",
        "            event = Event()\n",
        "            event.name = jikanwari[i][weekday]\n",
        "            event.begin = arrow.get(f\"{start} {class_time[i][0]}\", \"YYYY-MM-DD HH:mm:ss\").replace(tzinfo=\"Asia/Tokyo\")\n",
        "            event.end = arrow.get(f\"{start} {class_time[i][1]}\" ,\"YYYY-MM-DD HH:mm:ss\").replace(tzinfo=\"Asia/Tokyo\")\n",
        "            cal.events.add(event)\n",
        "    start += datetime.timedelta(days=1)"
      ],
      "metadata": {
        "id": "d3c50hApXnUq"
      },
      "execution_count": 10,
      "outputs": []
    },
    {
      "cell_type": "code",
      "source": [
        "with open('my.ics', 'w', encoding='utf-8') as f:\n",
        "    f.write(str(cal))"
      ],
      "metadata": {
        "colab": {
          "base_uri": "https://localhost:8080/"
        },
        "id": "vrTaPzSinPE3",
        "outputId": "0b510d86-05cb-48ce-96bc-072291abf74f"
      },
      "execution_count": 13,
      "outputs": [
        {
          "output_type": "stream",
          "name": "stderr",
          "text": [
            "/usr/local/lib/python3.9/dist-packages/ics/component.py:85: FutureWarning: Behaviour of str(Component) will change in version 0.9 to only return a short description, NOT the ics representation. Use the explicit Component.serialize() to get the ics representation.\n",
            "  warnings.warn(\n"
          ]
        }
      ]
    },
    {
      "cell_type": "code",
      "source": [],
      "metadata": {
        "id": "U7a4WBi-nyCG"
      },
      "execution_count": null,
      "outputs": []
    }
  ]
}